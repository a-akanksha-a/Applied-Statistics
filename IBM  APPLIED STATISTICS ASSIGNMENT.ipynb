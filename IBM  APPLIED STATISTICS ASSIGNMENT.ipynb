{
 "cells": [
  {
   "cell_type": "code",
   "execution_count": 13,
   "id": "70513c01-8c6b-4bae-ba03-354c75f05166",
   "metadata": {},
   "outputs": [
    {
     "name": "stdout",
     "output_type": "stream",
     "text": [
      "<class 'numpy.ndarray'>\n",
      "(3,)\n",
      "<class 'numpy.ndarray'>\n",
      "(3,)\n"
     ]
    }
   ],
   "source": [
    "#numpy advanced\n",
    "import numpy as np\n",
    "a=np.array([1,2,3])\n",
    "b=np.array([4,5,6])\n",
    "print(type(a))\n",
    "print(a.shape)\n",
    "print(type(b))\n",
    "print(b.shape)"
   ]
  },
  {
   "cell_type": "code",
   "execution_count": 14,
   "id": "12f28362-f2ae-407e-bd57-7350aab14ac5",
   "metadata": {},
   "outputs": [
    {
     "name": "stdout",
     "output_type": "stream",
     "text": [
      "1 2 3\n"
     ]
    }
   ],
   "source": [
    "print(a[0],a[1],a[2])"
   ]
  },
  {
   "cell_type": "code",
   "execution_count": 12,
   "id": "a48b018a-ce7a-42f8-8e8a-9bfb0efcfca7",
   "metadata": {},
   "outputs": [
    {
     "name": "stdout",
     "output_type": "stream",
     "text": [
      "[[5. 5.]\n",
      " [0. 0.]]\n"
     ]
    }
   ],
   "source": [
    "a[0]=5\n",
    "print(a)"
   ]
  },
  {
   "cell_type": "code",
   "execution_count": 3,
   "id": "f585ee98-9724-4bce-8ab8-b3d99c78b593",
   "metadata": {},
   "outputs": [
    {
     "name": "stdout",
     "output_type": "stream",
     "text": [
      "(2, 3)\n"
     ]
    }
   ],
   "source": [
    "b=np.array([[1,2,3],[4,5,6]])\n",
    "print(b.shape)"
   ]
  },
  {
   "cell_type": "code",
   "execution_count": 4,
   "id": "cf3d14f6-89a7-4fcf-a54e-0d1431042e8b",
   "metadata": {},
   "outputs": [
    {
     "name": "stdout",
     "output_type": "stream",
     "text": [
      "1 2 4\n"
     ]
    }
   ],
   "source": [
    "print(b[0,0],b[0,1],b[1,0])"
   ]
  },
  {
   "cell_type": "code",
   "execution_count": 5,
   "id": "9921e3c0-0b0d-4ceb-8d2d-f1c3ebc296f4",
   "metadata": {},
   "outputs": [
    {
     "name": "stdout",
     "output_type": "stream",
     "text": [
      "[[0. 0.]\n",
      " [0. 0.]]\n"
     ]
    }
   ],
   "source": [
    "import numpy as np\n",
    "a=np.zeros((2,2))\n",
    "print(a)"
   ]
  },
  {
   "cell_type": "code",
   "execution_count": 6,
   "id": "369037b3-4c76-4bf7-a8e5-48302cc1729c",
   "metadata": {},
   "outputs": [
    {
     "name": "stdout",
     "output_type": "stream",
     "text": [
      "[[1. 1.]]\n"
     ]
    }
   ],
   "source": [
    "b=np.ones((1,2))\n",
    "print(b)"
   ]
  },
  {
   "cell_type": "code",
   "execution_count": 7,
   "id": "42d146f4-9bd9-4ee2-8e6a-1716f06c15b2",
   "metadata": {},
   "outputs": [
    {
     "name": "stdout",
     "output_type": "stream",
     "text": [
      "[[7 7]\n",
      " [7 7]]\n"
     ]
    }
   ],
   "source": [
    "c=np.full((2,2),7)\n",
    "print(c)"
   ]
  },
  {
   "cell_type": "code",
   "execution_count": 8,
   "id": "7401c0b8-344e-42b4-9363-114baa9971a2",
   "metadata": {},
   "outputs": [
    {
     "name": "stdout",
     "output_type": "stream",
     "text": [
      "[[1. 0.]\n",
      " [0. 1.]]\n"
     ]
    }
   ],
   "source": [
    "d=np.eye(2)\n",
    "print(d)"
   ]
  },
  {
   "cell_type": "code",
   "execution_count": 9,
   "id": "108c2ecf-4db5-4c54-833b-11193d5a5028",
   "metadata": {},
   "outputs": [
    {
     "name": "stdout",
     "output_type": "stream",
     "text": [
      "[[0.27264772 0.04220056]\n",
      " [0.09154362 0.30292009]]\n"
     ]
    }
   ],
   "source": [
    "e=np.random.random((2,2))\n",
    "print(e)"
   ]
  },
  {
   "cell_type": "code",
   "execution_count": 10,
   "id": "6d29bf5d-559a-4a89-a770-d723ae3b40a5",
   "metadata": {},
   "outputs": [
    {
     "data": {
      "text/plain": [
       "array([2.  , 2.25, 2.5 , 2.75, 3.  ])"
      ]
     },
     "execution_count": 10,
     "metadata": {},
     "output_type": "execute_result"
    }
   ],
   "source": [
    "import numpy as np\n",
    "np.linspace(2.0,3.0,num=5)"
   ]
  },
  {
   "cell_type": "code",
   "execution_count": 15,
   "id": "3607d881-3f93-46c9-9433-f123a8d3358a",
   "metadata": {},
   "outputs": [
    {
     "data": {
      "text/plain": [
       "(array([2.  , 2.25, 2.5 , 2.75, 3.  ]), 0.25)"
      ]
     },
     "execution_count": 15,
     "metadata": {},
     "output_type": "execute_result"
    }
   ],
   "source": [
    "np.linspace(2.0,3.0,num=5, retstep=True)"
   ]
  },
  {
   "cell_type": "code",
   "execution_count": 16,
   "id": "7e1242d9-d73c-43a3-9f0a-28099e9dc74a",
   "metadata": {},
   "outputs": [
    {
     "data": {
      "text/plain": [
       "array([2. , 2.2, 2.4, 2.6, 2.8])"
      ]
     },
     "execution_count": 16,
     "metadata": {},
     "output_type": "execute_result"
    }
   ],
   "source": [
    "np.linspace(2.0,3.0,num=5, endpoint=False)"
   ]
  },
  {
   "cell_type": "code",
   "execution_count": 17,
   "id": "c2e9abb0-680c-4fd2-9916-f196b2a81e15",
   "metadata": {},
   "outputs": [
    {
     "name": "stdout",
     "output_type": "stream",
     "text": [
      "[[ 1  2  3  4]\n",
      " [ 5  6  7  8]\n",
      " [ 9 10 11 12]]\n"
     ]
    }
   ],
   "source": [
    "import numpy as np\n",
    "a=np.array([[1,2,3,4],[5,6,7,8],[9,10,11,12]])\n",
    "print((a))"
   ]
  },
  {
   "cell_type": "code",
   "execution_count": 18,
   "id": "8de27119-6aba-4c20-8f0c-ff6bcea0eb91",
   "metadata": {},
   "outputs": [
    {
     "name": "stdout",
     "output_type": "stream",
     "text": [
      "[[2 3]\n",
      " [6 7]]\n"
     ]
    }
   ],
   "source": [
    "b=a[:2,1:3]\n",
    "print((b))"
   ]
  },
  {
   "cell_type": "code",
   "execution_count": 19,
   "id": "f44d6fa6-7f84-4ec9-869b-d355790d3598",
   "metadata": {},
   "outputs": [
    {
     "name": "stdout",
     "output_type": "stream",
     "text": [
      "2\n"
     ]
    }
   ],
   "source": [
    "print(a[0,1])"
   ]
  },
  {
   "cell_type": "code",
   "execution_count": 20,
   "id": "71eae5aa-3c5e-4bea-84f1-edb081eda42a",
   "metadata": {},
   "outputs": [
    {
     "name": "stdout",
     "output_type": "stream",
     "text": [
      "[[ 1  2  3  4]\n",
      " [ 5  6  7  8]\n",
      " [ 9 10 11 12]]\n"
     ]
    }
   ],
   "source": [
    "print(a[:,:])"
   ]
  },
  {
   "cell_type": "code",
   "execution_count": 21,
   "id": "8ea22a41-fade-4596-843d-0e2f4ab53c29",
   "metadata": {},
   "outputs": [
    {
     "name": "stdout",
     "output_type": "stream",
     "text": [
      "[[2 3]\n",
      " [6 7]]\n"
     ]
    }
   ],
   "source": [
    "print(a[:2,1:3])"
   ]
  },
  {
   "cell_type": "code",
   "execution_count": 22,
   "id": "6f8e45ec-4a53-4346-a8f1-63eb4a68d580",
   "metadata": {},
   "outputs": [
    {
     "name": "stdout",
     "output_type": "stream",
     "text": [
      "[[2]\n",
      " [6]]\n"
     ]
    }
   ],
   "source": [
    "print(a[0:2,1:2])"
   ]
  },
  {
   "cell_type": "code",
   "execution_count": 23,
   "id": "37842f16-c2af-4d2e-a4bb-e1b6a4d02ea4",
   "metadata": {},
   "outputs": [
    {
     "name": "stdout",
     "output_type": "stream",
     "text": [
      "[[ 9 10]]\n"
     ]
    }
   ],
   "source": [
    "print(a[2:3,0:2])"
   ]
  },
  {
   "cell_type": "code",
   "execution_count": 24,
   "id": "83a136db-bf23-42f7-bae5-f634e41fd399",
   "metadata": {},
   "outputs": [
    {
     "name": "stdout",
     "output_type": "stream",
     "text": [
      "[[2 3 4]\n",
      " [6 7 8]]\n"
     ]
    }
   ],
   "source": [
    "print(a[:2,1:])"
   ]
  },
  {
   "cell_type": "code",
   "execution_count": 25,
   "id": "b1cd2132-eef3-4b5f-8765-c69f5731b3de",
   "metadata": {},
   "outputs": [
    {
     "name": "stdout",
     "output_type": "stream",
     "text": [
      "[[3]\n",
      " [7]]\n"
     ]
    }
   ],
   "source": [
    "print(a[-3:-1,-2:-1])"
   ]
  },
  {
   "cell_type": "code",
   "execution_count": 26,
   "id": "f8d4d79b-c0ee-40fa-9e7f-c52df0c8ae74",
   "metadata": {},
   "outputs": [
    {
     "name": "stdout",
     "output_type": "stream",
     "text": [
      "[]\n"
     ]
    }
   ],
   "source": [
    "print(a[-2:1,1:3])"
   ]
  },
  {
   "cell_type": "code",
   "execution_count": 27,
   "id": "54cc5ee7-8d45-4c98-a0cc-c8b17c80ad90",
   "metadata": {},
   "outputs": [
    {
     "name": "stdout",
     "output_type": "stream",
     "text": [
      "[1 4 5]\n"
     ]
    }
   ],
   "source": [
    "import numpy as np\n",
    "a=np.array([[1,2],[3,4],[5,6]])\n",
    "print(a[[0,1,2],[0,1,0]])"
   ]
  },
  {
   "cell_type": "code",
   "execution_count": 28,
   "id": "13506bb1-8fab-432e-9c23-c6b0b429c557",
   "metadata": {},
   "outputs": [
    {
     "name": "stdout",
     "output_type": "stream",
     "text": [
      "[1 4 5]\n"
     ]
    }
   ],
   "source": [
    "print(np.array([a[0,0],a[1,1],a[2,0]]))"
   ]
  },
  {
   "cell_type": "code",
   "execution_count": 29,
   "id": "cd17a98b-b40f-41d1-83b8-10aedb643c43",
   "metadata": {},
   "outputs": [
    {
     "name": "stdout",
     "output_type": "stream",
     "text": [
      "[2 2]\n"
     ]
    }
   ],
   "source": [
    "print(a[[0,0],[1,1]])"
   ]
  },
  {
   "cell_type": "code",
   "execution_count": 30,
   "id": "2d5bd5a0-4a26-4d57-afbf-352161dd6d92",
   "metadata": {},
   "outputs": [
    {
     "name": "stdout",
     "output_type": "stream",
     "text": [
      "[2 2]\n"
     ]
    }
   ],
   "source": [
    "print(np.array([a[0,1],a[0,1]]))"
   ]
  },
  {
   "cell_type": "code",
   "execution_count": 31,
   "id": "ea46072e-4863-4360-8716-8cfe8001b49f",
   "metadata": {},
   "outputs": [
    {
     "name": "stdout",
     "output_type": "stream",
     "text": [
      "[[ 1  2  3]\n",
      " [ 4  5  6]\n",
      " [ 7  8  9]\n",
      " [10 11 12]]\n"
     ]
    }
   ],
   "source": [
    "import numpy as np\n",
    "a=np.array([[1,2,3],[4,5,6],[7,8,9],[10,11,12]])\n",
    "print(a)"
   ]
  },
  {
   "cell_type": "code",
   "execution_count": 32,
   "id": "5470442a-3dc2-4a08-bed4-9724e7a3aba9",
   "metadata": {},
   "outputs": [
    {
     "name": "stdout",
     "output_type": "stream",
     "text": [
      "[0 2 0 1]\n"
     ]
    }
   ],
   "source": [
    "b=np.array([0,2,0,1])\n",
    "print(b)"
   ]
  },
  {
   "cell_type": "code",
   "execution_count": 33,
   "id": "367a7b4e-b751-4e29-8809-fddb7113a939",
   "metadata": {},
   "outputs": [
    {
     "name": "stdout",
     "output_type": "stream",
     "text": [
      "[ 1  6  7 11]\n"
     ]
    }
   ],
   "source": [
    "print(a[np.arange(4),b])"
   ]
  },
  {
   "cell_type": "code",
   "execution_count": 34,
   "id": "4454c3be-40da-45d1-87f9-216915f5bfff",
   "metadata": {},
   "outputs": [
    {
     "name": "stdout",
     "output_type": "stream",
     "text": [
      "[[11  2  3]\n",
      " [ 4  5 16]\n",
      " [17  8  9]\n",
      " [10 21 12]]\n"
     ]
    }
   ],
   "source": [
    "a[np.arange(4),b]+=10\n",
    "print(a)"
   ]
  },
  {
   "cell_type": "code",
   "execution_count": 35,
   "id": "c97ed54a-609c-47ae-8e5d-a0ae6e89cfae",
   "metadata": {},
   "outputs": [
    {
     "name": "stdout",
     "output_type": "stream",
     "text": [
      "[[False False]\n",
      " [ True  True]\n",
      " [ True  True]]\n"
     ]
    }
   ],
   "source": [
    "import numpy as np\n",
    "a=np.array([[1,2],[3,4],[5,6]])\n",
    "bool_idx=(a>2)\n",
    "print(bool_idx)"
   ]
  },
  {
   "cell_type": "code",
   "execution_count": 36,
   "id": "cc677ac2-9238-4d82-a8b7-f2359e594b8d",
   "metadata": {},
   "outputs": [
    {
     "name": "stdout",
     "output_type": "stream",
     "text": [
      "[3 4 5 6]\n"
     ]
    }
   ],
   "source": [
    "print(a[bool_idx])"
   ]
  },
  {
   "cell_type": "code",
   "execution_count": 37,
   "id": "ec60ef73-a60e-4e80-bc33-763002e91963",
   "metadata": {},
   "outputs": [
    {
     "name": "stdout",
     "output_type": "stream",
     "text": [
      "[3 4 5 6]\n"
     ]
    }
   ],
   "source": [
    "print(a[a>2])"
   ]
  },
  {
   "cell_type": "code",
   "execution_count": 38,
   "id": "d675eb83-d3cd-4a58-886d-0c8aec746494",
   "metadata": {},
   "outputs": [
    {
     "name": "stdout",
     "output_type": "stream",
     "text": [
      "int32\n"
     ]
    }
   ],
   "source": [
    "import numpy as np\n",
    "x=np.array([1,2])\n",
    "print(x.dtype)"
   ]
  },
  {
   "cell_type": "code",
   "execution_count": 39,
   "id": "659c5f77-00d3-447f-a88e-c3e0f72f7324",
   "metadata": {},
   "outputs": [
    {
     "name": "stdout",
     "output_type": "stream",
     "text": [
      "float64\n"
     ]
    }
   ],
   "source": [
    "x=np.array([1.0,2.0])\n",
    "print(x.dtype)"
   ]
  },
  {
   "cell_type": "code",
   "execution_count": 41,
   "id": "17de43b1-d1b4-4a0b-97f3-5b6656e362e0",
   "metadata": {},
   "outputs": [
    {
     "name": "stdout",
     "output_type": "stream",
     "text": [
      "int64\n"
     ]
    }
   ],
   "source": [
    "x=np.array([1,2],dtype=np.int64)\n",
    "print(x.dtype)"
   ]
  },
  {
   "cell_type": "code",
   "execution_count": 42,
   "id": "b79272fe-05eb-4a34-aa02-83f095955bd8",
   "metadata": {},
   "outputs": [
    {
     "name": "stdout",
     "output_type": "stream",
     "text": [
      "eigenvalues:\n",
      "[-0.37228132  5.37228132]\n",
      "\n",
      " eigenvectors:\n",
      "[[-0.82456484 -0.41597356]\n",
      " [ 0.56576746 -0.90937671]]\n"
     ]
    }
   ],
   "source": [
    "import numpy as np\n",
    "a=np.array([[1,2],[3,4]])\n",
    "eigenvalues,eigenvectors=np.linalg.eig(a)\n",
    "print(\"eigenvalues:\")\n",
    "print(eigenvalues)\n",
    "print(\"\\n eigenvectors:\")\n",
    "print(eigenvectors)"
   ]
  },
  {
   "cell_type": "code",
   "execution_count": 43,
   "id": "4fe0b395-c9e9-495b-b75e-60ff136c3077",
   "metadata": {},
   "outputs": [
    {
     "name": "stdout",
     "output_type": "stream",
     "text": [
      "[[ 6.  8.]\n",
      " [10. 12.]]\n"
     ]
    }
   ],
   "source": [
    "import numpy as np\n",
    "x=np.array([[1,2],[3,4]],dtype=np.float64)\n",
    "y=np.array([[5,6],[7,8]],dtype=np.float64)\n",
    "print(x+y)"
   ]
  },
  {
   "cell_type": "code",
   "execution_count": 44,
   "id": "3870cf05-4dc4-404e-a6d0-72e90249d7ab",
   "metadata": {},
   "outputs": [
    {
     "name": "stdout",
     "output_type": "stream",
     "text": [
      "[[ 6.  8.]\n",
      " [10. 12.]]\n"
     ]
    }
   ],
   "source": [
    "print(np.add(x,y))"
   ]
  },
  {
   "cell_type": "code",
   "execution_count": 45,
   "id": "03cbf5fd-837c-491f-98c8-c32efaa58a40",
   "metadata": {},
   "outputs": [
    {
     "name": "stdout",
     "output_type": "stream",
     "text": [
      "[[-4. -4.]\n",
      " [-4. -4.]]\n"
     ]
    }
   ],
   "source": [
    "print(x-y)"
   ]
  },
  {
   "cell_type": "code",
   "execution_count": 46,
   "id": "3c943a55-5b21-4d9a-a32d-23686cea0229",
   "metadata": {},
   "outputs": [
    {
     "name": "stdout",
     "output_type": "stream",
     "text": [
      "[[-4. -4.]\n",
      " [-4. -4.]]\n"
     ]
    }
   ],
   "source": [
    "print(np.subtract(x,y))"
   ]
  },
  {
   "cell_type": "code",
   "execution_count": 49,
   "id": "10580697-48a5-4f79-9041-b47ea50ab9bc",
   "metadata": {},
   "outputs": [
    {
     "name": "stdout",
     "output_type": "stream",
     "text": [
      "[[0.2        0.33333333]\n",
      " [0.42857143 0.5       ]]\n"
     ]
    }
   ],
   "source": [
    "print(np.divide(x,y))"
   ]
  },
  {
   "cell_type": "code",
   "execution_count": 50,
   "id": "7f0121a8-0dce-4da9-bb72-9a3d3c3fbf38",
   "metadata": {},
   "outputs": [
    {
     "name": "stdout",
     "output_type": "stream",
     "text": [
      "[[0.2        0.33333333]\n",
      " [0.42857143 0.5       ]]\n"
     ]
    }
   ],
   "source": [
    "print(x/y)"
   ]
  },
  {
   "cell_type": "code",
   "execution_count": 51,
   "id": "794e743d-9069-4e99-a363-aa3c728ade30",
   "metadata": {},
   "outputs": [
    {
     "name": "stdout",
     "output_type": "stream",
     "text": [
      "[[ 5. 12.]\n",
      " [21. 32.]]\n"
     ]
    }
   ],
   "source": [
    "print(x*y)"
   ]
  },
  {
   "cell_type": "code",
   "execution_count": 52,
   "id": "885c4839-d099-4821-aa3c-14586981d359",
   "metadata": {},
   "outputs": [
    {
     "name": "stdout",
     "output_type": "stream",
     "text": [
      "[[ 5. 12.]\n",
      " [21. 32.]]\n"
     ]
    }
   ],
   "source": [
    "print(np.multiply(x,y))"
   ]
  },
  {
   "cell_type": "code",
   "execution_count": 53,
   "id": "9e98a833-103a-47da-9905-1dd1714cb2b5",
   "metadata": {},
   "outputs": [
    {
     "name": "stdout",
     "output_type": "stream",
     "text": [
      "[[1.         1.41421356]\n",
      " [1.73205081 2.        ]]\n"
     ]
    }
   ],
   "source": [
    "print(np.sqrt(x))"
   ]
  },
  {
   "cell_type": "code",
   "execution_count": 54,
   "id": "07db75d5-fe5d-40d5-bf9d-372306434db3",
   "metadata": {},
   "outputs": [
    {
     "name": "stdout",
     "output_type": "stream",
     "text": [
      "[[1 2]\n",
      " [3 4]]\n"
     ]
    }
   ],
   "source": [
    "import numpy as np\n",
    "x=np.array([[1,2],[3,4]])\n",
    "print(x)"
   ]
  },
  {
   "cell_type": "code",
   "execution_count": 55,
   "id": "5b56b35a-9015-40f7-a4aa-f28a1bf37026",
   "metadata": {},
   "outputs": [
    {
     "name": "stdout",
     "output_type": "stream",
     "text": [
      "[[1 3]\n",
      " [2 4]]\n"
     ]
    }
   ],
   "source": [
    "print(x.T)"
   ]
  },
  {
   "cell_type": "code",
   "execution_count": 56,
   "id": "2d05f512-4c3b-4ba3-b203-e9d3994f43a9",
   "metadata": {},
   "outputs": [
    {
     "name": "stdout",
     "output_type": "stream",
     "text": [
      "[1 2 3]\n",
      "[1 2 3]\n"
     ]
    }
   ],
   "source": [
    "v=np.array([1,2,3])\n",
    "print(v)\n",
    "print(v.T)"
   ]
  },
  {
   "cell_type": "code",
   "execution_count": null,
   "id": "584ee658-ab61-45a5-9d22-78ff046be0cb",
   "metadata": {},
   "outputs": [],
   "source": []
  }
 ],
 "metadata": {
  "kernelspec": {
   "display_name": "Python 3 (ipykernel)",
   "language": "python",
   "name": "python3"
  },
  "language_info": {
   "codemirror_mode": {
    "name": "ipython",
    "version": 3
   },
   "file_extension": ".py",
   "mimetype": "text/x-python",
   "name": "python",
   "nbconvert_exporter": "python",
   "pygments_lexer": "ipython3",
   "version": "3.11.8"
  }
 },
 "nbformat": 4,
 "nbformat_minor": 5
}
